{
 "cells": [
  {
   "cell_type": "markdown",
   "id": "3a545582",
   "metadata": {},
   "source": [
    "# Tuples"
   ]
  },
  {
   "cell_type": "code",
   "execution_count": 3,
   "id": "0fab864a",
   "metadata": {},
   "outputs": [
    {
     "data": {
      "text/plain": [
       "tuple"
      ]
     },
     "execution_count": 3,
     "metadata": {},
     "output_type": "execute_result"
    }
   ],
   "source": [
    "## Creation of Tuples with Parenthesis\n",
    "t1=()\n",
    "type(t1)\n",
    "\n",
    "t2=tuple()\n",
    "type(t2)"
   ]
  },
  {
   "cell_type": "code",
   "execution_count": 5,
   "id": "e357e8da",
   "metadata": {},
   "outputs": [
    {
     "data": {
      "text/plain": [
       "tuple"
      ]
     },
     "execution_count": 5,
     "metadata": {},
     "output_type": "execute_result"
    }
   ],
   "source": [
    "## Creation of Tuples without Parenthesis\n",
    "\n",
    "tuple1=5,\n",
    "type(tuple1)\n"
   ]
  },
  {
   "cell_type": "code",
   "execution_count": 10,
   "id": "c2ad4435",
   "metadata": {},
   "outputs": [
    {
     "name": "stdout",
     "output_type": "stream",
     "text": [
      "<class 'tuple'>\n",
      "(8,)\n"
     ]
    }
   ],
   "source": [
    "# create tuple with single element\n",
    "g=8,\n",
    "print(type(g))\n",
    "print(g)"
   ]
  },
  {
   "cell_type": "code",
   "execution_count": 13,
   "id": "3d2649b4",
   "metadata": {},
   "outputs": [
    {
     "data": {
      "text/plain": [
       "'Welcome'"
      ]
     },
     "execution_count": 13,
     "metadata": {},
     "output_type": "execute_result"
    }
   ],
   "source": [
    "## Accessing Elements\n",
    "tuple2=(12,\"India\",\"Welcome\")\n",
    "tuple2[2]\n"
   ]
  },
  {
   "cell_type": "code",
   "execution_count": 44,
   "id": "1becdb4c",
   "metadata": {},
   "outputs": [
    {
     "name": "stdout",
     "output_type": "stream",
     "text": [
      "(2, 4, 6, 8, 18, 20, 1, 3, 5, 7)\n",
      "(2, 4, 6, 8, 18, 20)\n"
     ]
    }
   ],
   "source": [
    "## Tuple Concatention\n",
    "et=(2,4,6,8,18,20)\n",
    "ot=(1,3,5,7)\n",
    "\n",
    "print(et+ot)\n",
    "print(et)\n",
    "\n"
   ]
  },
  {
   "cell_type": "code",
   "execution_count": 19,
   "id": "c6d0e23a",
   "metadata": {},
   "outputs": [
    {
     "name": "stdout",
     "output_type": "stream",
     "text": [
      "v1= 2 v2= 4 \n",
      " 6 8\n"
     ]
    }
   ],
   "source": [
    "## Tuple Unpacking:\n",
    "\n",
    "v1,v2,v3,v4=et\n",
    "print(\"v1=\",v1,\"v2=\",v2, \"\\n\",v3,v4)\n"
   ]
  },
  {
   "cell_type": "code",
   "execution_count": 20,
   "id": "7c345515",
   "metadata": {},
   "outputs": [
    {
     "data": {
      "text/plain": [
       "4"
      ]
     },
     "execution_count": 20,
     "metadata": {},
     "output_type": "execute_result"
    }
   ],
   "source": [
    "## Find length of Tuple\n",
    "\n",
    "len(et)"
   ]
  },
  {
   "cell_type": "code",
   "execution_count": 22,
   "id": "4efc942b",
   "metadata": {},
   "outputs": [
    {
     "data": {
      "text/plain": [
       "True"
      ]
     },
     "execution_count": 22,
     "metadata": {},
     "output_type": "execute_result"
    }
   ],
   "source": [
    "## Checking Membership:\n",
    "\n",
    "2 in et"
   ]
  },
  {
   "cell_type": "code",
   "execution_count": 26,
   "id": "4a148607",
   "metadata": {},
   "outputs": [
    {
     "data": {
      "text/plain": [
       "[4, 7, 4, 7]"
      ]
     },
     "execution_count": 26,
     "metadata": {},
     "output_type": "execute_result"
    }
   ],
   "source": [
    "l1=[4,7]\n",
    "l1*2"
   ]
  },
  {
   "cell_type": "code",
   "execution_count": 30,
   "id": "6a96002c",
   "metadata": {},
   "outputs": [
    {
     "data": {
      "text/plain": [
       "(2, 4, 6, 8, 2, 4, 6, 8)"
      ]
     },
     "execution_count": 30,
     "metadata": {},
     "output_type": "execute_result"
    }
   ],
   "source": [
    "## Repetition\n",
    "\n",
    "r=et*2\n",
    "r"
   ]
  },
  {
   "cell_type": "code",
   "execution_count": 27,
   "id": "c938d5ce",
   "metadata": {},
   "outputs": [
    {
     "name": "stdout",
     "output_type": "stream",
     "text": [
      "4\n",
      "8\n",
      "12\n",
      "16\n"
     ]
    }
   ],
   "source": [
    "for i in et:\n",
    "    print(i*2)"
   ]
  },
  {
   "cell_type": "code",
   "execution_count": 29,
   "id": "bed45f10",
   "metadata": {},
   "outputs": [
    {
     "data": {
      "text/plain": [
       "(2, 4)"
      ]
     },
     "execution_count": 29,
     "metadata": {},
     "output_type": "execute_result"
    }
   ],
   "source": [
    "## Slicing\n",
    "et[:2]\n"
   ]
  },
  {
   "cell_type": "code",
   "execution_count": 32,
   "id": "8865e14e",
   "metadata": {},
   "outputs": [
    {
     "name": "stdout",
     "output_type": "stream",
     "text": [
      "(2, 4, 6, 8, 2, 4, 6, 8)\n"
     ]
    },
    {
     "data": {
      "text/plain": [
       "2"
      ]
     },
     "execution_count": 32,
     "metadata": {},
     "output_type": "execute_result"
    }
   ],
   "source": [
    "## Count Occurences\n",
    "print(r)\n",
    "r.count(8)\n"
   ]
  },
  {
   "cell_type": "code",
   "execution_count": 33,
   "id": "9d4872d5",
   "metadata": {},
   "outputs": [
    {
     "data": {
      "text/plain": [
       "3"
      ]
     },
     "execution_count": 33,
     "metadata": {},
     "output_type": "execute_result"
    }
   ],
   "source": [
    "## Index of Element:\n",
    "r.index(8)\n"
   ]
  },
  {
   "cell_type": "code",
   "execution_count": 38,
   "id": "6e055ee6",
   "metadata": {},
   "outputs": [
    {
     "name": "stdout",
     "output_type": "stream",
     "text": [
      "[4, 7, 'Newvalue']\n"
     ]
    },
    {
     "data": {
      "text/plain": [
       "(4, 7, 'Newvalue')"
      ]
     },
     "execution_count": 38,
     "metadata": {},
     "output_type": "execute_result"
    }
   ],
   "source": [
    "## Convert list to Tuple:\n",
    "l1=[4,7]\n",
    "l1.append(\"Newvalue\")\n",
    "print(l1)\n",
    "\n",
    "l1=tuple(l1)\n",
    "l1\n"
   ]
  },
  {
   "cell_type": "code",
   "execution_count": 47,
   "id": "d01b5e66",
   "metadata": {},
   "outputs": [
    {
     "data": {
      "text/plain": [
       "False"
      ]
     },
     "execution_count": 47,
     "metadata": {},
     "output_type": "execute_result"
    }
   ],
   "source": [
    "## Tuple Comparison:\n",
    "ot>et"
   ]
  },
  {
   "cell_type": "code",
   "execution_count": 49,
   "id": "7160d98e",
   "metadata": {},
   "outputs": [
    {
     "data": {
      "text/plain": [
       "<zip at 0x1f218280100>"
      ]
     },
     "execution_count": 49,
     "metadata": {},
     "output_type": "execute_result"
    }
   ],
   "source": [
    "## Zip Tuples:\n",
    "\n",
    "Continent=(\"Asia\",'Europe',\"Australia\")\n",
    "countries=(\"Japan\",\"Sweden\",\"Australia\")\n",
    "zip(Continent,countries)"
   ]
  },
  {
   "cell_type": "code",
   "execution_count": 50,
   "id": "b96216a4",
   "metadata": {},
   "outputs": [
    {
     "data": {
      "text/plain": [
       "(('Asia', 'Japan'), ('Europe', 'Sweden'), ('Australia', 'Australia'))"
      ]
     },
     "execution_count": 50,
     "metadata": {},
     "output_type": "execute_result"
    }
   ],
   "source": [
    "tuple(zip(Continent,countries))"
   ]
  },
  {
   "cell_type": "code",
   "execution_count": 51,
   "id": "2cd5728b",
   "metadata": {},
   "outputs": [
    {
     "data": {
      "text/plain": [
       "{(2, 4, 6): 'Even', (1, 3, 5): 'Odd'}"
      ]
     },
     "execution_count": 51,
     "metadata": {},
     "output_type": "execute_result"
    }
   ],
   "source": [
    "## Tuple as Key in Dictionary:\n",
    "dict1={\n",
    "    (2,4,6):\"Even\",\n",
    "    (1,3,5):\"Odd\"\n",
    "}\n",
    "dict1\n"
   ]
  },
  {
   "cell_type": "code",
   "execution_count": 53,
   "id": "cedbdfcd",
   "metadata": {},
   "outputs": [
    {
     "ename": "NameError",
     "evalue": "name 'et' is not defined",
     "output_type": "error",
     "traceback": [
      "\u001b[1;31m---------------------------------------------------------------------------\u001b[0m",
      "\u001b[1;31mNameError\u001b[0m                                 Traceback (most recent call last)",
      "Cell \u001b[1;32mIn[53], line 2\u001b[0m\n\u001b[0;32m      1\u001b[0m \u001b[38;5;66;03m## Deleting a tuple\u001b[39;00m\n\u001b[1;32m----> 2\u001b[0m \u001b[38;5;28;01mdel\u001b[39;00m(et)\n\u001b[0;32m      3\u001b[0m et\n",
      "\u001b[1;31mNameError\u001b[0m: name 'et' is not defined"
     ]
    }
   ],
   "source": [
    "## Deleting a tuple\n",
    "del(et)\n"
   ]
  }
 ],
 "metadata": {
  "kernelspec": {
   "display_name": "Python 3 (ipykernel)",
   "language": "python",
   "name": "python3"
  },
  "language_info": {
   "codemirror_mode": {
    "name": "ipython",
    "version": 3
   },
   "file_extension": ".py",
   "mimetype": "text/x-python",
   "name": "python",
   "nbconvert_exporter": "python",
   "pygments_lexer": "ipython3",
   "version": "3.11.5"
  }
 },
 "nbformat": 4,
 "nbformat_minor": 5
}
